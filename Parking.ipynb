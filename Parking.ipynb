{
 "cells": [
  {
   "cell_type": "code",
   "execution_count": null,
   "id": "552d7a2c-3544-4163-9d26-01b581f891ef",
   "metadata": {},
   "outputs": [],
   "source": [
    "import pandas as pd\n",
    "\n",
    "#Reading the contents from the csv file\n",
    "df = pd.read_csv(\"311_Service_Requests_2020.csv\")\n",
    "\n",
    "#Filtering out data where the complaint type is Illegal Parking\n",
    "park_df =len(df[df['Complaint Type'] == 'Illegal Parking'])\n",
    "total_parking_df = len(df)\n",
    "#Taking the ratio of the illegal parking complaints to the total parking complaints\n",
    "ratio_df = park_df/total_parking_df\n",
    "\n",
    "#Filtering data where the incident zip is 10025\n",
    "df1 = df[df['Incident Zip'] == 10025]\n",
    "#Filtering out data where the complaint type is Illegal Parking\n",
    "parking_zipcode =len(df1[df1['Complaint Type'] == 'Illegal Parking'])\n",
    "total_zipcode = len(df1)\n",
    "#Taking the ratio of the illegal parking complaints to the total parking complaints in 10025\n",
    "ratio_zipcode = parking_zipcode/total_zipcode\n",
    "\n",
    "#Assigning True or False to the output variable\n",
    "higher_parking_proportion = ratio_zipcode > ratio_df\n",
    "\n",
    "#Printing the answer\n",
    "print(higher_parking_proportion)"
   ]
  }
 ],
 "metadata": {
  "kernelspec": {
   "display_name": "Python 3",
   "language": "python",
   "name": "python3"
  },
  "language_info": {
   "codemirror_mode": {
    "name": "ipython",
    "version": 3
   },
   "file_extension": ".py",
   "mimetype": "text/x-python",
   "name": "python",
   "nbconvert_exporter": "python",
   "pygments_lexer": "ipython3",
   "version": "3.8.8"
  }
 },
 "nbformat": 4,
 "nbformat_minor": 5
}
