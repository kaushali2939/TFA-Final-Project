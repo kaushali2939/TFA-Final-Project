{
 "cells": [
  {
   "cell_type": "markdown",
   "id": "32dddca7-bce0-46e1-914b-29e1e30831e7",
   "metadata": {},
   "source": [
    "Reading the csv file:"
   ]
  },
  {
   "cell_type": "code",
   "execution_count": null,
   "id": "0531513a-5e97-483a-ad07-20f19166abe1",
   "metadata": {},
   "outputs": [],
   "source": [
    "import pandas as pd\n",
    "\n",
    "df = pd.read_csv(\"311_Service_Requests_2020.csv\")"
   ]
  },
  {
   "cell_type": "markdown",
   "id": "101199b1-4656-4c9d-8745-2a71742c348a",
   "metadata": {},
   "source": [
    "Filtering all rows with zip = 10025:"
   ]
  },
  {
   "cell_type": "code",
   "execution_count": null,
   "id": "26bb6544-873f-4940-b701-b62dad2f418b",
   "metadata": {},
   "outputs": [],
   "source": [
    "df = df[df['Incident Zip'] == 10025]"
   ]
  },
  {
   "cell_type": "markdown",
   "id": "43d698cb-ae92-4ada-8f0a-12d097fdfc2e",
   "metadata": {},
   "source": [
    "Getting the value count for each complaint type in the descending order:"
   ]
  },
  {
   "cell_type": "code",
   "execution_count": null,
   "id": "884d2f07-578f-40cf-8da3-3a9107777f5e",
   "metadata": {},
   "outputs": [],
   "source": [
    "answer = df['Complaint Type'].value_counts(sort = True, ascending = False)"
   ]
  },
  {
   "cell_type": "markdown",
   "id": "8c1556af-fb22-4f2d-ae92-ac7c663e044a",
   "metadata": {},
   "source": [
    "Getting the top 10 rows of that and printing it out:"
   ]
  },
  {
   "cell_type": "code",
   "execution_count": null,
   "id": "ddff49b1-3b8a-4014-b0c7-1b8a100e5d36",
   "metadata": {},
   "outputs": [],
   "source": [
    "top10 = answer[:10]"
   ]
  },
  {
   "cell_type": "code",
   "execution_count": null,
   "id": "f2fbbf23-acd6-4e98-8f29-613328602fa0",
   "metadata": {},
   "outputs": [],
   "source": [
    "print(top10)"
   ]
  }
 ],
 "metadata": {
  "kernelspec": {
   "display_name": "Python 3",
   "language": "python",
   "name": "python3"
  },
  "language_info": {
   "codemirror_mode": {
    "name": "ipython",
    "version": 3
   },
   "file_extension": ".py",
   "mimetype": "text/x-python",
   "name": "python",
   "nbconvert_exporter": "python",
   "pygments_lexer": "ipython3",
   "version": "3.8.8"
  }
 },
 "nbformat": 4,
 "nbformat_minor": 5
}
