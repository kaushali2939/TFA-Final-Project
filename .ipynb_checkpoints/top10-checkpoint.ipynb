{
 "cells": [
  {
   "cell_type": "code",
   "execution_count": null,
   "id": "0ada2feb-ac12-4fd2-b8d0-1cc269f4b806",
   "metadata": {},
   "outputs": [],
   "source": [
    "import pandas as pd\n",
    "\n",
    "df = pd.read_csv(\"sample.csv\")"
   ]
  },
  {
   "cell_type": "code",
   "execution_count": null,
   "id": "26bb6544-873f-4940-b701-b62dad2f418b",
   "metadata": {},
   "outputs": [],
   "source": [
    "df = df[df['Incident Zip'] == 10025]"
   ]
  },
  {
   "cell_type": "code",
   "execution_count": null,
   "id": "884d2f07-578f-40cf-8da3-3a9107777f5e",
   "metadata": {},
   "outputs": [],
   "source": [
    "answer = df['Complaint Type'].value_counts(sort = True, ascending = False)"
   ]
  },
  {
   "cell_type": "code",
   "execution_count": null,
   "id": "ddff49b1-3b8a-4014-b0c7-1b8a100e5d36",
   "metadata": {},
   "outputs": [],
   "source": [
    "top10 = answer[:10]"
   ]
  },
  {
   "cell_type": "code",
   "execution_count": null,
   "id": "f2fbbf23-acd6-4e98-8f29-613328602fa0",
   "metadata": {},
   "outputs": [],
   "source": [
    "print(top10)"
   ]
  }
 ],
 "metadata": {
  "kernelspec": {
   "display_name": "Python 3",
   "language": "python",
   "name": "python3"
  },
  "language_info": {
   "codemirror_mode": {
    "name": "ipython",
    "version": 3
   },
   "file_extension": ".py",
   "mimetype": "text/x-python",
   "name": "python",
   "nbconvert_exporter": "python",
   "pygments_lexer": "ipython3",
   "version": "3.8.8"
  }
 },
 "nbformat": 4,
 "nbformat_minor": 5
}
